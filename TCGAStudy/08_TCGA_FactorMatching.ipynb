{
 "cells": [
  {
   "cell_type": "markdown",
   "metadata": {},
   "source": [
    "# Factor matching"
   ]
  },
  {
   "cell_type": "markdown",
   "metadata": {},
   "source": [
    "This workbook is run using R\n",
    "\n",
    "The purpose of this workbook is to investigate differnetially active groundtruth factors that were picked up with TL that are not picked up with Direct.\n",
    "\n",
    "It is of interest to see the frequency with which differentially active groundtruth factors (which come from factorization of the reference datasets) are picked up as true positives from factorizations of the target datasets.\n",
    "Then GSEA is used to assess the biological relevance of these factors, with speacial interest in those picked up with transfer learning but not with direct factorization."
   ]
  },
  {
   "cell_type": "markdown",
   "metadata": {},
   "source": [
    "## Identify factors of interest"
   ]
  },
  {
   "cell_type": "code",
   "execution_count": null,
   "metadata": {
    "vscode": {
     "languageId": "r"
    }
   },
   "outputs": [],
   "source": [
    "# libraries\n",
    "library(MOFA2)\n",
    "library(rhdf5)\n",
    "library(rjson)\n",
    "library(dplyr)\n",
    "library(ggplot2)\n",
    "library(RColorBrewer)\n",
    "library(fgsea)\n",
    "library(msigdbr)"
   ]
  },
  {
   "cell_type": "code",
   "execution_count": 2,
   "metadata": {
    "vscode": {
     "languageId": "r"
    }
   },
   "outputs": [],
   "source": [
    "# import the factorization evaluation list\n",
    "### which configs\n",
    "TopD = 5000\n",
    "TrgFullTH = '01TH'\n",
    "## import the scores\n",
    "FctrznEvaluation = readRDS(file.path('Results',paste0('FctrznEvaluation_',TopD,'D_',TrgFullTH,'.rds')))\n",
    "## extract record of matches\n",
    "factor_matches = FctrznEvaluation[['factor_matches']]\n",
    "## record number of iterations per project\n",
    "fctrzn_subsets = FctrznEvaluation[['FctrznEvaluationResults']] %>% \n",
    "dplyr::group_by(prjct_name) %>%\n",
    "dplyr::summarise(subsets = max(ss_iteration)) %>%\n",
    "as.data.frame()"
   ]
  },
  {
   "cell_type": "code",
   "execution_count": 3,
   "metadata": {
    "vscode": {
     "languageId": "r"
    }
   },
   "outputs": [],
   "source": [
    "## loop through to aggregate\n",
    "match_type = character()\n",
    "prjct_name = character()\n",
    "fctrzn_method = character()\n",
    "fctr_number = integer()\n",
    "\n",
    "for (m in names(factor_matches)){\n",
    "    for (p in names(factor_matches[[m]])){\n",
    "        for (ss in names(factor_matches[[m]][[p]])){\n",
    "            for (fm in names(factor_matches[[m]][[p]][[ss]])){\n",
    "\n",
    "                if (m=='True_positives'){\n",
    "                   fctr_number_tmp = factor_matches[[m]][[p]][[ss]][[fm]]\n",
    "                } else {\n",
    "                    fctr_number_tmp = unique(factor_matches[[m]][[p]][[ss]][[fm]]$Full)\n",
    "                }\n",
    "\n",
    "                fctr_number = c(fctr_number, fctr_number_tmp) \n",
    "                fctrzn_method = c(fctrzn_method, rep(fm, length(fctr_number_tmp)))\n",
    "                prjct_name = c(prjct_name, rep(p, length(fctr_number_tmp)))\n",
    "                match_type = c(match_type, rep(m, length(fctr_number_tmp)))\n",
    "                \n",
    "            }\n",
    "        }\n",
    "    }\n",
    "}\n",
    "\n",
    "factor_matches_df = data.frame(\n",
    "   match_type = match_type,\n",
    "   prjct_name = prjct_name,\n",
    "   fctrzn_method = fctrzn_method,\n",
    "   fctr_number = fctr_number \n",
    ") %>% \n",
    "dplyr::inner_join(fctrzn_subsets, by = c('prjct_name')) %>%\n",
    "dplyr::mutate(subsets_percent = 1/subsets) %>%\n",
    "as.data.frame()\n",
    "\n"
   ]
  },
  {
   "cell_type": "code",
   "execution_count": 4,
   "metadata": {
    "vscode": {
     "languageId": "r"
    }
   },
   "outputs": [],
   "source": [
    "## tidy up and prepare summary table\n",
    "factor_matches_df$fctrzn_method[factor_matches_df$fctrzn_method==\"TL_VI\"]=\"MOTL\"\n",
    "\n",
    "factor_matches_df$groundtruth_factor = factor(\n",
    "    factor_matches_df$fctr_number, \n",
    "    levels = unique(factor_matches_df$fctr_number)[order(unique(factor_matches_df$fctr_number))]\n",
    "    )"
   ]
  },
  {
   "cell_type": "code",
   "execution_count": null,
   "metadata": {
    "vscode": {
     "languageId": "r"
    }
   },
   "outputs": [],
   "source": [
    "# summary stats\n",
    "PlotPrjcts = c('LAML_PAAD','LAML_SKCM','PAAD_SKCM','LAML_PAAD_SKCM')\n",
    "PlotMatches = c('True_positives')\n",
    "PlotName = 'MatchedFactors_TPs_'\n",
    "\n",
    "PlotMethods = c('Direct', 'MOTL')\n",
    "\n",
    "DFToPlot = factor_matches_df[\n",
    "    is.element(factor_matches_df$prjct_name, PlotPrjcts) &\n",
    "    is.element(factor_matches_df$match_type, PlotMatches) &\n",
    "    is.element(factor_matches_df$fctrzn_method, PlotMethods) \n",
    "    ,]\n",
    "DFToPlot$fctrzn_method = as.factor(DFToPlot$fctrzn_method)\n",
    "DFToPlot$fctrzn_method = relevel(DFToPlot$fctrzn_method, ref = 'Direct')\n",
    "\n",
    "\n",
    "ggplot(data = DFToPlot, mapping = aes(\n",
    "    x=groundtruth_factor, fill=fctrzn_method, weight = subsets_percent\n",
    "    )) +\n",
    "    geom_bar(position = position_dodge2(preserve = \"single\")) +\n",
    "    facet_grid(factor(prjct_name, levels = PlotPrjcts) ~ match_type, scales = 'free') +\n",
    "    coord_flip()+\n",
    "    xlab(\"Groundtruth factor\") +\n",
    "    ylab(\"Proportion of target datasets\") +\n",
    "    theme_bw() +\n",
    "    theme(\n",
    "        axis.text.x = element_text(size=6),\n",
    "        axis.text.y = element_text(size=6),\n",
    "        strip.text.x = element_text(size=6),\n",
    "        strip.text.y = element_text(size=5),\n",
    "        axis.title.x = element_text(size=6),\n",
    "        axis.title.y = element_text(size=6),\n",
    "        legend.title = element_blank(),\n",
    "        legend.text = element_text(size=6)\n",
    "        ) +\n",
    "    scale_fill_brewer(palette = \"Set2\")\n",
    "\n",
    "ggsave(file.path('Results',paste0(PlotName,TopD,'D_',TrgFullTH,'.pdf')),\n",
    "         width = 10, height = 10, units = \"cm\"\n",
    "         )\n",
    "ggsave(file.path('Results',paste0(PlotName,TopD,'D_',TrgFullTH,'.png')),\n",
    "         width = 10, height = 10, units = \"cm\"\n",
    "         )"
   ]
  },
  {
   "cell_type": "code",
   "execution_count": null,
   "metadata": {
    "vscode": {
     "languageId": "r"
    }
   },
   "outputs": [],
   "source": [
    "# print a table\n",
    "DFToTable = DFToPlot %>% \n",
    "dplyr::group_by(match_type, prjct_name, fctrzn_method, fctr_number) %>%\n",
    "# dplyr::summarize(n = n()) %>%\n",
    "dplyr::summarize(n = sum(subsets_percent)) %>%\n",
    "    as.data.frame()\n",
    "\n",
    "DFToTable = reshape(\n",
    "    DFToTable,\n",
    "    idvar = c(\"match_type\", \"prjct_name\", \"fctr_number\"),\n",
    "    timevar = \"fctrzn_method\",\n",
    "    direction = \"wide\")\n",
    "\n",
    "\n",
    "print(DFToTable[order(\n",
    "    DFToTable$match_type,\n",
    "    DFToTable$prjct_name, \n",
    "    DFToTable$fctr_number),])\n",
    "\n",
    "write.table(DFToTable,\n",
    "            file.path('Results', paste0(PlotName,TopD,'D_',TrgFullTH,'.csv')),\n",
    "            quote = FALSE, sep=',', na='', row.names = FALSE, col.names = TRUE)\n"
   ]
  },
  {
   "cell_type": "markdown",
   "metadata": {},
   "source": [
    "## Inspect a factor of interest"
   ]
  },
  {
   "cell_type": "code",
   "execution_count": null,
   "metadata": {
    "vscode": {
     "languageId": "r"
    }
   },
   "outputs": [],
   "source": [
    "## import a groundtruth factorization to inspect a factor\n",
    "Prjct = 'LAML_PAAD'\n",
    "TrgFullK = 100\n",
    "TrgFullDir = file.path(\n",
    "    paste0('Trg_',Prjct,'_Full_',TopD,'D'), \n",
    "    paste0('Fctrzn_',TrgFullK,'K_',TrgFullTH)\n",
    "    )\n",
    "InputModel = file.path(TrgFullDir,\"Model.hdf5\")\n",
    "TrgFull_Fctrzn = load_model(file = InputModel)\n",
    "\n",
    "print(colnames(TrgFull_Fctrzn@expectations$W[['mRNA']]))"
   ]
  },
  {
   "cell_type": "code",
   "execution_count": null,
   "metadata": {
    "vscode": {
     "languageId": "r"
    }
   },
   "outputs": [],
   "source": [
    "# plot variance explained by the factors and save plot\n",
    "varexp_title = paste0(Prjct,' reference dataset')\n",
    "varexp = plot_variance_explained(TrgFull_Fctrzn) + ggtitle(varexp_title)\n",
    "varexp\n",
    "ggsave(filename = file.path('Results',\n",
    "                   paste0('VarExpl_',Prjct,'_',TopD,'D_',TrgFullK,'K_',TrgFullTH,'.pdf')),\n",
    "                   plot = varexp\n",
    "        #            ,\n",
    "        #  width = 10, height = 10, units = \"cm\"\n",
    "         )\n",
    "ggsave(filename = file.path('Results',\n",
    "                   paste0('VarExpl_',Prjct,'_',TopD,'D_',TrgFullK,'K_',TrgFullTH,'.png')),\n",
    "                   plot = varexp\n",
    "        #            ,\n",
    "        #  width = 10, height = 10, units = \"cm\"\n",
    "         )"
   ]
  },
  {
   "cell_type": "code",
   "execution_count": null,
   "metadata": {
    "vscode": {
     "languageId": "r"
    }
   },
   "outputs": [],
   "source": [
    "# print variance explained by the factors and save csv\n",
    "varexp = TrgFull_Fctrzn@cache$variance_explained$r2_per_factor[[1]]\n",
    "print(varexp)\n",
    "# trick to export rownames to csv\n",
    "colnames(varexp)[1] = paste0('Factor',',',colnames(varexp)[1])\n",
    "write.table(varexp,\n",
    "            file.path(\n",
    "                'Results',\n",
    "                paste0('VarExpl_',Prjct,'_',TopD,'D_',TrgFullK,'K_',TrgFullTH,'.csv')\n",
    "                ),\n",
    "            quote = FALSE, sep=',', na='', row.names = TRUE, col.names = TRUE)\n"
   ]
  },
  {
   "cell_type": "code",
   "execution_count": null,
   "metadata": {
    "vscode": {
     "languageId": "r"
    }
   },
   "outputs": [],
   "source": [
    "# Get the mRNA weight matrix\n",
    "W_mRNA = TrgFull_Fctrzn@expectations$W[['mRNA']]\n",
    "# truncate row names\n",
    "rownames(W_mRNA) = substr(rownames(W_mRNA),1,regexpr('[.]',rownames(W_mRNA))-1)\n",
    "# scale feature values across the factors?\n",
    "ScaleW = function(x) {\n",
    "  x/norm(matrix(x),type=\"F\")\n",
    "}\n",
    "W_mRNA = t(apply(W_mRNA,1, ScaleW))\n",
    "\n",
    "# pick a factor to use as the ranking vector\n",
    "rankings = W_mRNA[,10]\n",
    "names(rankings) = rownames(W_mRNA)\n",
    "rankings = sort(rankings, decreasing = TRUE)\n",
    "# check the rankings\n",
    "max(rankings)\n",
    "min(rankings)\n",
    "plot(rankings)\n"
   ]
  },
  {
   "cell_type": "code",
   "execution_count": null,
   "metadata": {
    "vscode": {
     "languageId": "r"
    }
   },
   "outputs": [],
   "source": [
    "# what are the options for the gene sets?\n",
    "msigdbr_species()\n",
    "msigdbr_collections()"
   ]
  },
  {
   "cell_type": "code",
   "execution_count": null,
   "metadata": {
    "vscode": {
     "languageId": "r"
    }
   },
   "outputs": [],
   "source": [
    "## get a collection and create a list for fsgea\n",
    "gene_sets = msigdbr(\n",
    "    species = \"Homo sapiens\", \n",
    "    category = \"C5\", \n",
    "    subcategory = \"GO:CC\"\n",
    ")\n",
    "\n",
    "# colnames(gene_sets)\n",
    "# print(head(gene_sets$ensembl_gene))\n",
    "\n",
    "gene_sets = gene_sets %>% \n",
    "dplyr::distinct(gs_name, ensembl_gene) %>% \n",
    "as.data.frame()\n",
    "\n",
    "## check output and overlap\n",
    "\n",
    "overlap_genes = names(rankings)[is.element(names(rankings),gene_sets$ensembl_gene)]\n",
    "length(overlap_genes)\n",
    "print(head(gene_sets))\n",
    "\n",
    "## create a list for fsgea\n",
    "\n",
    "gene_sets = split(x = gene_sets$ensembl_gene, f = gene_sets$gs_name)\n",
    "print(length(gene_sets))\n",
    "head(names(gene_sets))"
   ]
  },
  {
   "cell_type": "code",
   "execution_count": 19,
   "metadata": {
    "vscode": {
     "languageId": "r"
    }
   },
   "outputs": [],
   "source": [
    "## run fsgea\n",
    "fgseaRes = fgsea(\n",
    "    pathways = gene_sets,\n",
    "    stats = rankings,\n",
    "    minSize = 15,\n",
    "    maxSize = 500)"
   ]
  },
  {
   "cell_type": "code",
   "execution_count": null,
   "metadata": {
    "vscode": {
     "languageId": "r"
    }
   },
   "outputs": [],
   "source": [
    "## Quick inspection of GOCC_T_CELL_RECEPTOR_COMPLEX\n",
    "fgseaRes$leadingEdge[fgseaRes$pathway==\"GOCC_T_CELL_RECEPTOR_COMPLEX\"]"
   ]
  },
  {
   "cell_type": "code",
   "execution_count": null,
   "metadata": {
    "vscode": {
     "languageId": "r"
    }
   },
   "outputs": [],
   "source": [
    "## check results\n",
    "fgseaRes = fgseaRes %>% \n",
    "            dplyr::select(pathway, padj, ES, NES, size) %>% \n",
    "            as.data.frame()\n",
    "\n",
    "fgseaRes = fgseaRes[fgseaRes$padj<0.01 & !is.na(fgseaRes$padj),]\n",
    "\n",
    "print(head(fgseaRes))"
   ]
  },
  {
   "cell_type": "markdown",
   "metadata": {},
   "source": [
    "## Loop to save significant pathways"
   ]
  },
  {
   "cell_type": "markdown",
   "metadata": {},
   "source": [
    "The code before this is used to identify factors of interest and explore fgsea outputs.\n",
    "This code should be run after restarting the kernel. It will loop through specified projects, factors and pathways and run fgsea. The final output is a dataframe to be saved as a csv"
   ]
  },
  {
   "cell_type": "code",
   "execution_count": null,
   "metadata": {
    "vscode": {
     "languageId": "r"
    }
   },
   "outputs": [],
   "source": [
    "# libraries\n",
    "library(MOFA2)\n",
    "library(rhdf5)\n",
    "library(rjson)\n",
    "library(dplyr)\n",
    "library(ggplot2)\n",
    "library(RColorBrewer)\n",
    "library(fgsea)\n",
    "library(msigdbr)"
   ]
  },
  {
   "cell_type": "code",
   "execution_count": 2,
   "metadata": {
    "vscode": {
     "languageId": "r"
    }
   },
   "outputs": [],
   "source": [
    "## common factorization parameter values\n",
    "TopD = 5000\n",
    "TrgFullTH = '01TH'\n",
    "TrgFullK = 100\n",
    "\n",
    "## factors to test 'LAML_PAAD','LAML_SKCM','PAAD_SKCM','LAML_PAAD_SKCM'\n",
    "## Differentially active groundtruth factors picked up from T factorization\n",
    "## that explained at least 0.01 of variance in R\n",
    "\n",
    "FactorsToTest = list(\n",
    "  LAML_PAAD = data.frame(\n",
    "    k = c(1, 3),\n",
    "    mRNAvar = c(75.5, 2.2),\n",
    "    DirectFreq = c('middle','low')\n",
    "  ),\n",
    "  LAML_SKCM = data.frame(\n",
    "    k = c(1, 3, 8, 9),\n",
    "    mRNAvar = c(50.2, 3.9, 1.6, 3.0),\n",
    "    DirectFreq = c('low','low','low', 'low')\n",
    "  ),\n",
    "  PAAD_SKCM = data.frame(\n",
    "    k = c(2, 4, 7, 9, 10, 15),\n",
    "    mRNAvar = c(35.6, 1.2, 5.1, 2.2, 2.1, 1.6),\n",
    "    DirectFreq = c('low','high','low','low','low', 'low')\n",
    "  ),\n",
    "  LAML_PAAD_SKCM = data.frame(\n",
    "    k = c(1, 2, 4, 5, 8),\n",
    "    mRNAvar = c(26.7, 29.2, 3.9, 1.2, 2.6),\n",
    "    DirectFreq = c('high','low','middle','low','low')\n",
    "  )\n",
    ")\n",
    "\n",
    "## the genesets to test\n",
    "GenesetsToTest = data.frame(\n",
    "  category = c(\"C2\", \"C2\", \"C5\", \"C5\"),\n",
    "  subcategory = c(\"CP:KEGG\", \"CP:REACTOME\", \"GO:BP\", \"GO:CC\")\n",
    ")\n"
   ]
  },
  {
   "cell_type": "code",
   "execution_count": null,
   "metadata": {
    "vscode": {
     "languageId": "r"
    }
   },
   "outputs": [],
   "source": [
    "## empty list to store results\n",
    "SigGeneSets = vector(\"list\")\n",
    "\n",
    "# scaling function\n",
    "ScaleW = function(x) {\n",
    "x/norm(matrix(x),type=\"F\")\n",
    "}\n",
    "\n",
    "for (Prjct in names(FactorsToTest)){\n",
    "\n",
    "    # import the groundtruth factorization\n",
    "    TrgFullDir = file.path(\n",
    "    paste0('Trg_',Prjct,'_Full_',TopD,'D'), \n",
    "    paste0('Fctrzn_',TrgFullK,'K_',TrgFullTH)\n",
    "    )\n",
    "    InputModel = file.path(TrgFullDir,\"Model.hdf5\")\n",
    "    TrgFull_Fctrzn = load_model(file = InputModel) \n",
    "\n",
    "    # Get the mRNA weight matrix\n",
    "    W_mRNA = TrgFull_Fctrzn@expectations$W[['mRNA']]\n",
    "    # truncate row names\n",
    "    rownames(W_mRNA) = substr(\n",
    "        rownames(W_mRNA),\n",
    "        1,\n",
    "        regexpr('[.]',rownames(W_mRNA))-1\n",
    "        )\n",
    "    # scale the weights\n",
    "    W_mRNA = t(apply(W_mRNA,1, ScaleW))\n",
    "\n",
    "    for (ftt in 1:nrow(FactorsToTest[[Prjct]])){\n",
    "\n",
    "        k = FactorsToTest[[Prjct]]$k[ftt]\n",
    "        mRNAvar = FactorsToTest[[Prjct]]$mRNAvar[ftt]\n",
    "        DirectFreq = FactorsToTest[[Prjct]]$DirectFreq[ftt]\n",
    "\n",
    "        # pick a factor to use as the ranking vector\n",
    "        rankings = W_mRNA[,k]\n",
    "        names(rankings) = rownames(W_mRNA)\n",
    "\n",
    "        # test for different geneset collections\n",
    "        for (gstt in 1:nrow(GenesetsToTest)){\n",
    "            # get the genesets for a selected collection\n",
    "            category = GenesetsToTest$category[gstt]\n",
    "            subcategory = GenesetsToTest$subcategory[gstt]\n",
    "            gene_sets = msigdbr(\n",
    "                species = \"Homo sapiens\", \n",
    "                category = category, \n",
    "                subcategory = subcategory\n",
    "                )\n",
    "                \n",
    "            gene_sets = gene_sets %>% \n",
    "            dplyr::distinct(gs_name, ensembl_gene) %>% \n",
    "            as.data.frame()\n",
    "\n",
    "            gene_sets = split(\n",
    "                x = gene_sets$ensembl_gene, \n",
    "                f = gene_sets$gs_name\n",
    "                )\n",
    "            # set seed\n",
    "            Seed = 1234567\n",
    "            mode(Seed) = 'integer'\n",
    "            set.seed(Seed)\n",
    "\n",
    "            # run fgsea\n",
    "            fgseaRes = fgsea(\n",
    "                pathways = gene_sets,\n",
    "                stats = rankings,\n",
    "                minSize = 15,\n",
    "                maxSize = 500\n",
    "                )\n",
    "            \n",
    "            fgseaRes = fgseaRes %>% \n",
    "            dplyr::select(pathway, padj, ES, NES, size) %>% \n",
    "            as.data.frame()\n",
    "            \n",
    "            fgseaRes = fgseaRes[fgseaRes$padj<0.01 & !is.na(fgseaRes$padj),]\n",
    "            \n",
    "            fgseaRes$Prjct = rep(Prjct,nrow(fgseaRes))\n",
    "            fgseaRes$k = rep(k,nrow(fgseaRes))\n",
    "            fgseaRes$mRNAvar = rep(mRNAvar,nrow(fgseaRes))\n",
    "            fgseaRes$DirectFreq = rep(DirectFreq,nrow(fgseaRes))\n",
    "            fgseaRes$subcategory = rep(subcategory,nrow(fgseaRes))\n",
    "\n",
    "            # add to list of results\n",
    "            SigGeneSets[[paste0(c(Prjct,k,subcategory),collapse = ';')]] = fgseaRes\n",
    "            # tidy up\n",
    "            rm(list=c(\"fgseaRes\", \"gene_sets\"))\n",
    "            invisible(gc())\n",
    "\n",
    "        } \n",
    "        # tidy up\n",
    "        rm(list=c(\"rankings\"))\n",
    "        invisible(gc())              \n",
    "    } \n",
    "    # tidy up\n",
    "    rm(list=c(\"TrgFull_Fctrzn\", \"W_mRNA\"))\n",
    "    invisible(gc())   \n",
    "}\n",
    "\n",
    "## create a single dataframe\n",
    "SigGeneSetsDF = do.call(rbind, SigGeneSets)\n",
    "## export as csv\n",
    "write.table(SigGeneSetsDF,\n",
    "            file.path('Results','SigGeneSets.csv'),\n",
    "            quote = FALSE, sep=',', na='', row.names = FALSE, col.names = TRUE)\n"
   ]
  }
 ],
 "metadata": {
  "kernelspec": {
   "display_name": "R",
   "language": "R",
   "name": "ir"
  },
  "language_info": {
   "codemirror_mode": "r",
   "file_extension": ".r",
   "mimetype": "text/x-r-source",
   "name": "R",
   "pygments_lexer": "r",
   "version": "4.2.0"
  }
 },
 "nbformat": 4,
 "nbformat_minor": 2
}
