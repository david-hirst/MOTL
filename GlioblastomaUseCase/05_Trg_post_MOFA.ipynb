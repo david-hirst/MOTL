{
 "cells": [
  {
   "cell_type": "markdown",
   "metadata": {},
   "source": [
    "# Post factorization analysis "
   ]
  },
  {
   "cell_type": "markdown",
   "metadata": {},
   "source": [
    "This workbook is run using R\n",
    "\n",
    "The purpose of this notebook is to analyse the results of the MOFA factorization of the target dataset.\n",
    "\n",
    "Firstly differential factors are identified and then assessed with GSEA."
   ]
  },
  {
   "cell_type": "code",
   "execution_count": null,
   "metadata": {
    "vscode": {
     "languageId": "r"
    }
   },
   "outputs": [],
   "source": [
    "# libraries\n",
    "library(MOFA2)\n",
    "library(rhdf5)\n",
    "library(rjson)\n",
    "library(dplyr)\n",
    "library(ggplot2)\n",
    "library(RColorBrewer)\n",
    "library(fgsea)\n",
    "library(msigdbr)\n",
    "\n",
    "## SET SEED\n",
    "Seed = 1234567\n",
    "mode(Seed) = 'integer'\n",
    "set.seed(Seed)"
   ]
  },
  {
   "cell_type": "code",
   "execution_count": 2,
   "metadata": {
    "vscode": {
     "languageId": "r"
    }
   },
   "outputs": [],
   "source": [
    "##\n",
    "### parameters and directories\n",
    "##\n",
    "\n",
    "TopD = 5000\n",
    "\n",
    "InDir = file.path('RawData')\n",
    "\n",
    "## various choices for the factorization directory\n",
    "\n",
    "FctrznDir = file.path(\n",
    "  paste0('Trg_MS_PN_', TopD,\"D\"),\n",
    "  \"MOFA\", \"Fctrzn_6K_01TH\"\n",
    "  )\n"
   ]
  },
  {
   "cell_type": "code",
   "execution_count": 3,
   "metadata": {
    "vscode": {
     "languageId": "r"
    }
   },
   "outputs": [],
   "source": [
    "## import metadata\n",
    "smpls = read.table(\n",
    "  file.path(InDir,\"phenodata_RNAseq.tsv\"),\n",
    "  header = TRUE\n",
    ")\n",
    "# tidy and filter sample names\n",
    "smpls$Sample = sub(\"[.]\",\"-\",smpls$Sample)\n",
    "smpls = smpls[is.element(smpls$HGCC,c(\"MS\", \"PN\")),]\n",
    "\n",
    "# add case control variable if testing cancer vs healthy\n",
    "smpls$CaseControl = smpls$HGCC\n",
    "smpls$CaseControl[smpls$CaseControl!='Normal']='Case'"
   ]
  },
  {
   "cell_type": "code",
   "execution_count": 4,
   "metadata": {
    "vscode": {
     "languageId": "r"
    }
   },
   "outputs": [],
   "source": [
    "# import factorization\n",
    "InputModel = file.path(FctrznDir,\"Model.hdf5\")\n",
    "Fctrzn = load_model(file = InputModel)\n",
    "Zmu = Fctrzn@expectations$Z$group0\n"
   ]
  },
  {
   "cell_type": "code",
   "execution_count": null,
   "metadata": {
    "vscode": {
     "languageId": "r"
    }
   },
   "outputs": [],
   "source": [
    "# filter and order samples\n",
    "smpls = smpls[is.element(smpls$Sample,rownames(Zmu)),]\n",
    "Zmu = Zmu[smpls$Sample,]\n",
    "\n",
    "print(smpls)\n",
    "print(Zmu)"
   ]
  },
  {
   "cell_type": "code",
   "execution_count": null,
   "metadata": {
    "vscode": {
     "languageId": "r"
    }
   },
   "outputs": [],
   "source": [
    "# test for differentially active factors\n",
    "# sample_group = as.factor(smpls$CaseControl)\n",
    "sample_group = as.factor(smpls$HGCC)\n",
    "\n",
    "# test if can use wilcox\n",
    "minSamples = min(unlist(table(sample_group)))\n",
    "# testing function\n",
    "DifFactTester = function(x, minSamples) {\n",
    "  if (minSamples >= 4) {\n",
    "    wilcox.test(x ~ sample_group)$p.value\n",
    "  } else {\n",
    "    t.test(x ~ sample_group)$p.value\n",
    "  }\n",
    "}\n",
    "Z_pv = apply(X = Zmu, MARGIN = 2, FUN = DifFactTester, minSamples = minSamples)\n",
    "Z_pv = p.adjust(Z_pv, method=\"BH\")\n",
    "print(Z_pv)\n",
    "Z_pv_sig = which(Z_pv < 0.05)\n",
    "names(Z_pv_sig) = names(Z_pv)[Z_pv_sig]\n",
    "print(Z_pv_sig)"
   ]
  },
  {
   "cell_type": "code",
   "execution_count": null,
   "metadata": {
    "vscode": {
     "languageId": "r"
    }
   },
   "outputs": [],
   "source": [
    "# Check variance explained by factor\n",
    "varexp = Fctrzn@cache$variance_explained$r2_per_factor[[1]]\n",
    "print(varexp)\n",
    "plot_variance_explained(Fctrzn)"
   ]
  },
  {
   "cell_type": "code",
   "execution_count": null,
   "metadata": {
    "vscode": {
     "languageId": "r"
    }
   },
   "outputs": [],
   "source": [
    "# GSEA mRNA weights vectors of interest\n",
    "GroupsTested = paste(levels(sample_group),collapse='_vs_')\n",
    "W = Fctrzn@expectations$W\n",
    "ScaleW = function(x) {\n",
    "  x/norm(matrix(x),type=\"F\")\n",
    "}\n",
    "W_mRNA = t(apply(W[['mRNA']],1, ScaleW))\n",
    "\n",
    "kToTest = c('Factor1')\n",
    "GenesetCatToTest = c(\"C2\", \"C2\", \"C5\", \"C5\")\n",
    "GenesetSubCatToTest = c(\"CP:KEGG\", \"CP:REACTOME\", \"GO:BP\", \"GO:CC\")\n",
    "\n",
    "ToTest = data.frame(\n",
    "  k = rep(kToTest, each=length(GenesetCatToTest)),\n",
    "  category = rep(GenesetCatToTest,times=length(kToTest)),\n",
    "  subcategory = rep(GenesetSubCatToTest,times=length(kToTest))\n",
    ")\n",
    "\n",
    "SigGeneSets = apply(X = ToTest, MARGIN = 1, FUN = function(ToTestVec, WMat = W_mRNA, Groups = GroupsTested){\n",
    "\n",
    "  k = as.character(ToTestVec[1])\n",
    "  category = as.character(ToTestVec[2])\n",
    "  subcategory = as.character(ToTestVec[3])\n",
    "  rankings = WMat[,k]\n",
    "  names(rankings) = rownames(WMat)\n",
    "\n",
    "  gene_sets = msigdbr(\n",
    "                species = \"Homo sapiens\", \n",
    "                category = category, \n",
    "                subcategory = subcategory\n",
    "                )\n",
    "\n",
    "  gene_sets = gene_sets %>% \n",
    "            dplyr::distinct(gs_name, ensembl_gene) %>% \n",
    "            as.data.frame()\n",
    "\n",
    "  gene_sets = split(\n",
    "      x = gene_sets$ensembl_gene, \n",
    "      f = gene_sets$gs_name\n",
    "      )\n",
    "  # set seed\n",
    "  Seed = 1234567\n",
    "  mode(Seed) = 'integer'\n",
    "  set.seed(Seed)\n",
    "\n",
    "  # run fgsea\n",
    "  fgseaRes = fgsea(\n",
    "      pathways = gene_sets,\n",
    "      stats = rankings,\n",
    "      minSize = 15,\n",
    "      maxSize = 500\n",
    "      )\n",
    "  \n",
    "  fgseaRes = fgseaRes %>% \n",
    "  dplyr::select(pathway, padj, ES, NES, size) %>% \n",
    "  as.data.frame()\n",
    "  \n",
    "  fgseaRes = fgseaRes[fgseaRes$padj<0.01 & !is.na(fgseaRes$padj),]\n",
    "  fgseaRes$k = rep(k,nrow(fgseaRes))\n",
    "  fgseaRes$subcategory = rep(subcategory,nrow(fgseaRes))\n",
    "  fgseaRes$Groups = rep(Groups,nrow(fgseaRes))\n",
    "\n",
    "  return(fgseaRes)\n",
    "\n",
    "})\n",
    "\n",
    "SigGeneSets = do.call(rbind, SigGeneSets)\n",
    "\n",
    "## export as csv\n",
    "write.table(SigGeneSets,\n",
    "            file.path(FctrznDir, paste0('SigGeneSets','_',GroupsTested,'.csv')),\n",
    "            quote = FALSE, sep=',', na='', row.names = FALSE, col.names = TRUE)\n"
   ]
  }
 ],
 "metadata": {
  "kernelspec": {
   "display_name": "R",
   "language": "R",
   "name": "ir"
  },
  "language_info": {
   "codemirror_mode": "r",
   "file_extension": ".r",
   "mimetype": "text/x-r-source",
   "name": "R",
   "pygments_lexer": "r",
   "version": "4.2.0"
  }
 },
 "nbformat": 4,
 "nbformat_minor": 2
}
